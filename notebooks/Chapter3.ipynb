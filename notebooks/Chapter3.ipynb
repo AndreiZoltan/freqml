{
 "cells": [
  {
   "cell_type": "code",
   "execution_count": 4,
   "metadata": {},
   "outputs": [],
   "source": [
    "import freqml as fm\n",
    "from freqml import *\n",
    "from binance.client import Client\n",
    "import numpy as np\n",
    "import pandas as pd\n",
    "from scipy import stats\n",
    "import seaborn as sns\n",
    "import matplotlib.pyplot as plt\n",
    "\n",
    "%matplotlib inline"
   ]
  },
  {
   "cell_type": "code",
   "execution_count": 5,
   "metadata": {},
   "outputs": [],
   "source": [
    "secret = \"3XUJnKgPdzfhJVWcTC0adU3CW9T9AOksNW1oTJ0xp0ELDdnD5mxCUj5IpxpZWY9v\"\n",
    "key = \"a4JbLRzlMP9aeiiaQpYTZewvkYWdml3JmkpEZr7ndkKAvsqqFKzPFd98Pfhb1BBs\""
   ]
  },
  {
   "cell_type": "code",
   "execution_count": 6,
   "metadata": {},
   "outputs": [],
   "source": [
    "client = Client(key, secret)"
   ]
  },
  {
   "cell_type": "code",
   "execution_count": 7,
   "metadata": {},
   "outputs": [],
   "source": [
    "df = fm.load_dataset(client)"
   ]
  },
  {
   "cell_type": "code",
   "execution_count": 8,
   "metadata": {
    "scrolled": true
   },
   "outputs": [
    {
     "data": {
      "text/plain": [
       "(188243, 7)"
      ]
     },
     "execution_count": 8,
     "metadata": {},
     "output_type": "execute_result"
    }
   ],
   "source": [
    "df.shape"
   ]
  },
  {
   "cell_type": "code",
   "execution_count": 9,
   "metadata": {},
   "outputs": [
    {
     "data": {
      "text/plain": [
       "Timedelta('1 days 00:00:22.855000')"
      ]
     },
     "execution_count": 9,
     "metadata": {},
     "output_type": "execute_result"
    }
   ],
   "source": [
    "df.bars.period"
   ]
  },
  {
   "cell_type": "code",
   "execution_count": 10,
   "metadata": {},
   "outputs": [],
   "source": [
    "df_TB = df.bars.TB()"
   ]
  },
  {
   "cell_type": "markdown",
   "metadata": {},
   "source": [
    "### discover promising points"
   ]
  },
  {
   "cell_type": "code",
   "execution_count": 11,
   "metadata": {},
   "outputs": [
    {
     "name": "stdout",
     "output_type": "stream",
     "text": [
      "CPU times: user 3.15 s, sys: 529 µs, total: 3.15 s\n",
      "Wall time: 3.15 s\n"
     ]
    }
   ],
   "source": [
    "%%time\n",
    "promising_points = fm.CUSUM(df)"
   ]
  },
  {
   "cell_type": "code",
   "execution_count": 12,
   "metadata": {},
   "outputs": [
    {
     "data": {
      "text/plain": [
       "(2298, 1)"
      ]
     },
     "execution_count": 12,
     "metadata": {},
     "output_type": "execute_result"
    }
   ],
   "source": [
    "promising_points.shape"
   ]
  },
  {
   "cell_type": "code",
   "execution_count": 13,
   "metadata": {},
   "outputs": [
    {
     "data": {
      "text/html": [
       "<div>\n",
       "<style scoped>\n",
       "    .dataframe tbody tr th:only-of-type {\n",
       "        vertical-align: middle;\n",
       "    }\n",
       "\n",
       "    .dataframe tbody tr th {\n",
       "        vertical-align: top;\n",
       "    }\n",
       "\n",
       "    .dataframe thead th {\n",
       "        text-align: right;\n",
       "    }\n",
       "</style>\n",
       "<table border=\"1\" class=\"dataframe\">\n",
       "  <thead>\n",
       "    <tr style=\"text-align: right;\">\n",
       "      <th></th>\n",
       "      <th>datetime</th>\n",
       "    </tr>\n",
       "  </thead>\n",
       "  <tbody>\n",
       "    <tr>\n",
       "      <th>93</th>\n",
       "      <td>2020-07-20 22:34:53.324000+03:00</td>\n",
       "    </tr>\n",
       "    <tr>\n",
       "      <th>1247</th>\n",
       "      <td>2020-07-21 10:44:56.433000+03:00</td>\n",
       "    </tr>\n",
       "    <tr>\n",
       "      <th>711</th>\n",
       "      <td>2020-07-21 10:35:14.419000+03:00</td>\n",
       "    </tr>\n",
       "  </tbody>\n",
       "</table>\n",
       "</div>"
      ],
      "text/plain": [
       "                             datetime\n",
       "93   2020-07-20 22:34:53.324000+03:00\n",
       "1247 2020-07-21 10:44:56.433000+03:00\n",
       "711  2020-07-21 10:35:14.419000+03:00"
      ]
     },
     "execution_count": 13,
     "metadata": {},
     "output_type": "execute_result"
    }
   ],
   "source": [
    "promising_points.sample(3)"
   ]
  },
  {
   "cell_type": "markdown",
   "metadata": {},
   "source": [
    "### label dataset using triple barrier "
   ]
  },
  {
   "cell_type": "code",
   "execution_count": 17,
   "metadata": {},
   "outputs": [
    {
     "name": "stdout",
     "output_type": "stream",
     "text": [
      "CPU times: user 30.6 s, sys: 12.1 ms, total: 30.6 s\n",
      "Wall time: 30.6 s\n"
     ]
    }
   ],
   "source": [
    "%%time\n",
    "df_labels = fm.labeling(df_TB, promising_points[:2000], up=2, down=2, lapse=3)"
   ]
  },
  {
   "cell_type": "code",
   "execution_count": 18,
   "metadata": {},
   "outputs": [
    {
     "data": {
      "text/html": [
       "<div>\n",
       "<style scoped>\n",
       "    .dataframe tbody tr th:only-of-type {\n",
       "        vertical-align: middle;\n",
       "    }\n",
       "\n",
       "    .dataframe tbody tr th {\n",
       "        vertical-align: top;\n",
       "    }\n",
       "\n",
       "    .dataframe thead th {\n",
       "        text-align: right;\n",
       "    }\n",
       "</style>\n",
       "<table border=\"1\" class=\"dataframe\">\n",
       "  <thead>\n",
       "    <tr style=\"text-align: right;\">\n",
       "      <th></th>\n",
       "      <th>start</th>\n",
       "      <th>end</th>\n",
       "      <th>size</th>\n",
       "      <th>side</th>\n",
       "      <th>duration</th>\n",
       "      <th>touch_time</th>\n",
       "    </tr>\n",
       "  </thead>\n",
       "  <tbody>\n",
       "    <tr>\n",
       "      <th>317</th>\n",
       "      <td>234.15</td>\n",
       "      <td>234.83</td>\n",
       "      <td>0.68</td>\n",
       "      <td>0</td>\n",
       "      <td>00:03:12.530000</td>\n",
       "      <td>2020-07-20 22:46:22.494000+03:00</td>\n",
       "    </tr>\n",
       "    <tr>\n",
       "      <th>938</th>\n",
       "      <td>240.71</td>\n",
       "      <td>240.78</td>\n",
       "      <td>0.07</td>\n",
       "      <td>0</td>\n",
       "      <td>00:03:09.238000</td>\n",
       "      <td>2020-07-21 10:41:19.753000+03:00</td>\n",
       "    </tr>\n",
       "    <tr>\n",
       "      <th>1524</th>\n",
       "      <td>242.11</td>\n",
       "      <td>242.56</td>\n",
       "      <td>0.45</td>\n",
       "      <td>0</td>\n",
       "      <td>00:03:00.296000</td>\n",
       "      <td>2020-07-21 11:03:17.786000+03:00</td>\n",
       "    </tr>\n",
       "    <tr>\n",
       "      <th>104</th>\n",
       "      <td>235.77</td>\n",
       "      <td>235.32</td>\n",
       "      <td>0.45</td>\n",
       "      <td>0</td>\n",
       "      <td>00:03:04.177000</td>\n",
       "      <td>2020-07-20 22:38:00.901000+03:00</td>\n",
       "    </tr>\n",
       "    <tr>\n",
       "      <th>1462</th>\n",
       "      <td>241.63</td>\n",
       "      <td>241.55</td>\n",
       "      <td>0.08</td>\n",
       "      <td>0</td>\n",
       "      <td>00:03:09.371000</td>\n",
       "      <td>2020-07-21 10:54:01.762000+03:00</td>\n",
       "    </tr>\n",
       "  </tbody>\n",
       "</table>\n",
       "</div>"
      ],
      "text/plain": [
       "       start     end  size  side        duration  \\\n",
       "317   234.15  234.83  0.68     0 00:03:12.530000   \n",
       "938   240.71  240.78  0.07     0 00:03:09.238000   \n",
       "1524  242.11  242.56  0.45     0 00:03:00.296000   \n",
       "104   235.77  235.32  0.45     0 00:03:04.177000   \n",
       "1462  241.63  241.55  0.08     0 00:03:09.371000   \n",
       "\n",
       "                           touch_time  \n",
       "317  2020-07-20 22:46:22.494000+03:00  \n",
       "938  2020-07-21 10:41:19.753000+03:00  \n",
       "1524 2020-07-21 11:03:17.786000+03:00  \n",
       "104  2020-07-20 22:38:00.901000+03:00  \n",
       "1462 2020-07-21 10:54:01.762000+03:00  "
      ]
     },
     "execution_count": 18,
     "metadata": {},
     "output_type": "execute_result"
    }
   ],
   "source": [
    "df_labels.sample(5)"
   ]
  },
  {
   "cell_type": "code",
   "execution_count": 19,
   "metadata": {},
   "outputs": [
    {
     "data": {
      "text/plain": [
       "(2000, 6)"
      ]
     },
     "execution_count": 19,
     "metadata": {},
     "output_type": "execute_result"
    }
   ],
   "source": [
    "df_labels.shape"
   ]
  },
  {
   "cell_type": "markdown",
   "metadata": {},
   "source": [
    "### meta-label dataset using triple barrier"
   ]
  },
  {
   "cell_type": "code",
   "execution_count": 20,
   "metadata": {},
   "outputs": [],
   "source": [
    "predictions = pd.DataFrame(np.random.choice([-1, 1], df_labels.shape[0]))"
   ]
  },
  {
   "cell_type": "code",
   "execution_count": 23,
   "metadata": {},
   "outputs": [
    {
     "name": "stdout",
     "output_type": "stream",
     "text": [
      "CPU times: user 29.3 s, sys: 20.8 ms, total: 29.3 s\n",
      "Wall time: 29.3 s\n"
     ]
    }
   ],
   "source": [
    "%%time\n",
    "df_meta_labels = fm.meta_labeling(df_TB, promising_points[:2000], predictions)"
   ]
  },
  {
   "cell_type": "code",
   "execution_count": 24,
   "metadata": {},
   "outputs": [
    {
     "data": {
      "text/html": [
       "<div>\n",
       "<style scoped>\n",
       "    .dataframe tbody tr th:only-of-type {\n",
       "        vertical-align: middle;\n",
       "    }\n",
       "\n",
       "    .dataframe tbody tr th {\n",
       "        vertical-align: top;\n",
       "    }\n",
       "\n",
       "    .dataframe thead th {\n",
       "        text-align: right;\n",
       "    }\n",
       "</style>\n",
       "<table border=\"1\" class=\"dataframe\">\n",
       "  <thead>\n",
       "    <tr style=\"text-align: right;\">\n",
       "      <th></th>\n",
       "      <th>start</th>\n",
       "      <th>end</th>\n",
       "      <th>size</th>\n",
       "      <th>pred_side</th>\n",
       "      <th>true_side</th>\n",
       "      <th>take</th>\n",
       "      <th>duration</th>\n",
       "      <th>touch_time</th>\n",
       "    </tr>\n",
       "  </thead>\n",
       "  <tbody>\n",
       "    <tr>\n",
       "      <th>1857</th>\n",
       "      <td>244.54</td>\n",
       "      <td>244.50</td>\n",
       "      <td>0.04</td>\n",
       "      <td>1</td>\n",
       "      <td>0</td>\n",
       "      <td>0</td>\n",
       "      <td>00:05:16.830000</td>\n",
       "      <td>2020-07-21 16:08:46.137000+03:00</td>\n",
       "    </tr>\n",
       "    <tr>\n",
       "      <th>1684</th>\n",
       "      <td>242.34</td>\n",
       "      <td>242.12</td>\n",
       "      <td>0.22</td>\n",
       "      <td>-1</td>\n",
       "      <td>0</td>\n",
       "      <td>0</td>\n",
       "      <td>00:05:21.979000</td>\n",
       "      <td>2020-07-21 12:48:09.892000+03:00</td>\n",
       "    </tr>\n",
       "    <tr>\n",
       "      <th>1406</th>\n",
       "      <td>241.73</td>\n",
       "      <td>241.36</td>\n",
       "      <td>0.37</td>\n",
       "      <td>-1</td>\n",
       "      <td>0</td>\n",
       "      <td>0</td>\n",
       "      <td>00:05:10.155000</td>\n",
       "      <td>2020-07-21 10:52:14.474000+03:00</td>\n",
       "    </tr>\n",
       "    <tr>\n",
       "      <th>1954</th>\n",
       "      <td>243.99</td>\n",
       "      <td>243.77</td>\n",
       "      <td>0.22</td>\n",
       "      <td>1</td>\n",
       "      <td>0</td>\n",
       "      <td>0</td>\n",
       "      <td>00:05:15.045000</td>\n",
       "      <td>2020-07-21 16:36:51.089000+03:00</td>\n",
       "    </tr>\n",
       "    <tr>\n",
       "      <th>1603</th>\n",
       "      <td>241.72</td>\n",
       "      <td>241.95</td>\n",
       "      <td>0.23</td>\n",
       "      <td>1</td>\n",
       "      <td>0</td>\n",
       "      <td>0</td>\n",
       "      <td>00:05:12.570000</td>\n",
       "      <td>2020-07-21 11:19:33.538000+03:00</td>\n",
       "    </tr>\n",
       "  </tbody>\n",
       "</table>\n",
       "</div>"
      ],
      "text/plain": [
       "       start     end  size  pred_side  true_side  take        duration  \\\n",
       "1857  244.54  244.50  0.04          1          0     0 00:05:16.830000   \n",
       "1684  242.34  242.12  0.22         -1          0     0 00:05:21.979000   \n",
       "1406  241.73  241.36  0.37         -1          0     0 00:05:10.155000   \n",
       "1954  243.99  243.77  0.22          1          0     0 00:05:15.045000   \n",
       "1603  241.72  241.95  0.23          1          0     0 00:05:12.570000   \n",
       "\n",
       "                           touch_time  \n",
       "1857 2020-07-21 16:08:46.137000+03:00  \n",
       "1684 2020-07-21 12:48:09.892000+03:00  \n",
       "1406 2020-07-21 10:52:14.474000+03:00  \n",
       "1954 2020-07-21 16:36:51.089000+03:00  \n",
       "1603 2020-07-21 11:19:33.538000+03:00  "
      ]
     },
     "execution_count": 24,
     "metadata": {},
     "output_type": "execute_result"
    }
   ],
   "source": [
    "df_meta_labels.sample(5)"
   ]
  },
  {
   "cell_type": "code",
   "execution_count": 25,
   "metadata": {},
   "outputs": [
    {
     "data": {
      "text/plain": [
       "(2000, 8)"
      ]
     },
     "execution_count": 25,
     "metadata": {},
     "output_type": "execute_result"
    }
   ],
   "source": [
    "df_meta_labels.shape"
   ]
  }
 ],
 "metadata": {
  "kernelspec": {
   "display_name": "freqml",
   "language": "python",
   "name": "freqml"
  },
  "language_info": {
   "codemirror_mode": {
    "name": "ipython",
    "version": 3
   },
   "file_extension": ".py",
   "mimetype": "text/x-python",
   "name": "python",
   "nbconvert_exporter": "python",
   "pygments_lexer": "ipython3",
   "version": "3.7.4"
  }
 },
 "nbformat": 4,
 "nbformat_minor": 4
}
