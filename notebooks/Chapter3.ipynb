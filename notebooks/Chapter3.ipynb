{
 "cells": [
  {
   "cell_type": "code",
   "execution_count": 1,
   "metadata": {},
   "outputs": [],
   "source": [
    "import freqml as fm\n",
    "from freqml import *\n",
    "import numpy as np\n",
    "import pandas as pd\n",
    "from scipy import stats\n",
    "import seaborn as sns\n",
    "import matplotlib.pyplot as plt\n",
    "\n",
    "%matplotlib inline"
   ]
  },
  {
   "cell_type": "code",
   "execution_count": 2,
   "metadata": {},
   "outputs": [],
   "source": [
    "df = fm.read(\"ETH\")"
   ]
  },
  {
   "cell_type": "code",
   "execution_count": 6,
   "metadata": {},
   "outputs": [
    {
     "data": {
      "text/plain": [
       "(400201, 7)"
      ]
     },
     "execution_count": 6,
     "metadata": {},
     "output_type": "execute_result"
    }
   ],
   "source": [
    "df.shape"
   ]
  },
  {
   "cell_type": "code",
   "execution_count": 3,
   "metadata": {},
   "outputs": [],
   "source": [
    "df_TB = df.bars.TB()"
   ]
  },
  {
   "cell_type": "markdown",
   "metadata": {},
   "source": [
    "### discover promising points"
   ]
  },
  {
   "cell_type": "code",
   "execution_count": 7,
   "metadata": {},
   "outputs": [
    {
     "name": "stdout",
     "output_type": "stream",
     "text": [
      "CPU times: user 6.95 s, sys: 3.66 ms, total: 6.96 s\n",
      "Wall time: 6.95 s\n"
     ]
    }
   ],
   "source": [
    "%%time\n",
    "promising_points = fm.CUSUM(df)"
   ]
  },
  {
   "cell_type": "code",
   "execution_count": 21,
   "metadata": {},
   "outputs": [
    {
     "data": {
      "text/plain": [
       "(27891, 1)"
      ]
     },
     "execution_count": 21,
     "metadata": {},
     "output_type": "execute_result"
    }
   ],
   "source": [
    "promising_points.shape"
   ]
  },
  {
   "cell_type": "code",
   "execution_count": 8,
   "metadata": {},
   "outputs": [
    {
     "data": {
      "text/html": [
       "<div>\n",
       "<style scoped>\n",
       "    .dataframe tbody tr th:only-of-type {\n",
       "        vertical-align: middle;\n",
       "    }\n",
       "\n",
       "    .dataframe tbody tr th {\n",
       "        vertical-align: top;\n",
       "    }\n",
       "\n",
       "    .dataframe thead th {\n",
       "        text-align: right;\n",
       "    }\n",
       "</style>\n",
       "<table border=\"1\" class=\"dataframe\">\n",
       "  <thead>\n",
       "    <tr style=\"text-align: right;\">\n",
       "      <th></th>\n",
       "      <th>datetime</th>\n",
       "    </tr>\n",
       "  </thead>\n",
       "  <tbody>\n",
       "    <tr>\n",
       "      <th>14872</th>\n",
       "      <td>2020-04-16 07:35:27.445000+00:00</td>\n",
       "    </tr>\n",
       "    <tr>\n",
       "      <th>26723</th>\n",
       "      <td>2020-04-16 16:04:34.231000+00:00</td>\n",
       "    </tr>\n",
       "    <tr>\n",
       "      <th>17300</th>\n",
       "      <td>2020-04-16 08:27:55.929000+00:00</td>\n",
       "    </tr>\n",
       "  </tbody>\n",
       "</table>\n",
       "</div>"
      ],
      "text/plain": [
       "                              datetime\n",
       "14872 2020-04-16 07:35:27.445000+00:00\n",
       "26723 2020-04-16 16:04:34.231000+00:00\n",
       "17300 2020-04-16 08:27:55.929000+00:00"
      ]
     },
     "execution_count": 8,
     "metadata": {},
     "output_type": "execute_result"
    }
   ],
   "source": [
    "promising_points.sample(3)"
   ]
  },
  {
   "cell_type": "markdown",
   "metadata": {},
   "source": [
    "### label dataset using triple barrier "
   ]
  },
  {
   "cell_type": "code",
   "execution_count": 26,
   "metadata": {},
   "outputs": [
    {
     "name": "stdout",
     "output_type": "stream",
     "text": [
      "CPU times: user 4min 6s, sys: 200 ms, total: 4min 7s\n",
      "Wall time: 4min 6s\n"
     ]
    }
   ],
   "source": [
    "%%time\n",
    "df_labels = fm.labeling(df_TB, promising_points[:20000], up=2, down=2, lapse=3)"
   ]
  },
  {
   "cell_type": "code",
   "execution_count": 32,
   "metadata": {},
   "outputs": [
    {
     "data": {
      "text/html": [
       "<div>\n",
       "<style scoped>\n",
       "    .dataframe tbody tr th:only-of-type {\n",
       "        vertical-align: middle;\n",
       "    }\n",
       "\n",
       "    .dataframe tbody tr th {\n",
       "        vertical-align: top;\n",
       "    }\n",
       "\n",
       "    .dataframe thead th {\n",
       "        text-align: right;\n",
       "    }\n",
       "</style>\n",
       "<table border=\"1\" class=\"dataframe\">\n",
       "  <thead>\n",
       "    <tr style=\"text-align: right;\">\n",
       "      <th></th>\n",
       "      <th>start</th>\n",
       "      <th>end</th>\n",
       "      <th>size</th>\n",
       "      <th>side</th>\n",
       "      <th>duration</th>\n",
       "      <th>touch_time</th>\n",
       "    </tr>\n",
       "  </thead>\n",
       "  <tbody>\n",
       "    <tr>\n",
       "      <th>2262</th>\n",
       "      <td>155.68</td>\n",
       "      <td>156.06</td>\n",
       "      <td>0.38</td>\n",
       "      <td>0</td>\n",
       "      <td>00:03:11.753000</td>\n",
       "      <td>2020-04-15 12:43:25.002000+00:00</td>\n",
       "    </tr>\n",
       "    <tr>\n",
       "      <th>10340</th>\n",
       "      <td>160.75</td>\n",
       "      <td>162.71</td>\n",
       "      <td>1.96</td>\n",
       "      <td>1</td>\n",
       "      <td>00:02:38.006000</td>\n",
       "      <td>2020-04-16 07:18:39.358000+00:00</td>\n",
       "    </tr>\n",
       "    <tr>\n",
       "      <th>11194</th>\n",
       "      <td>162.87</td>\n",
       "      <td>164.60</td>\n",
       "      <td>1.73</td>\n",
       "      <td>1</td>\n",
       "      <td>00:00:35.149000</td>\n",
       "      <td>2020-04-16 07:19:13.434000+00:00</td>\n",
       "    </tr>\n",
       "    <tr>\n",
       "      <th>2137</th>\n",
       "      <td>156.71</td>\n",
       "      <td>156.25</td>\n",
       "      <td>0.46</td>\n",
       "      <td>0</td>\n",
       "      <td>00:03:07.085000</td>\n",
       "      <td>2020-04-15 12:12:41.222000+00:00</td>\n",
       "    </tr>\n",
       "    <tr>\n",
       "      <th>8460</th>\n",
       "      <td>153.28</td>\n",
       "      <td>153.11</td>\n",
       "      <td>0.17</td>\n",
       "      <td>0</td>\n",
       "      <td>00:04:04.720000</td>\n",
       "      <td>2020-04-16 05:23:43.778000+00:00</td>\n",
       "    </tr>\n",
       "  </tbody>\n",
       "</table>\n",
       "</div>"
      ],
      "text/plain": [
       "        start     end  size  side        duration  \\\n",
       "2262   155.68  156.06  0.38     0 00:03:11.753000   \n",
       "10340  160.75  162.71  1.96     1 00:02:38.006000   \n",
       "11194  162.87  164.60  1.73     1 00:00:35.149000   \n",
       "2137   156.71  156.25  0.46     0 00:03:07.085000   \n",
       "8460   153.28  153.11  0.17     0 00:04:04.720000   \n",
       "\n",
       "                            touch_time  \n",
       "2262  2020-04-15 12:43:25.002000+00:00  \n",
       "10340 2020-04-16 07:18:39.358000+00:00  \n",
       "11194 2020-04-16 07:19:13.434000+00:00  \n",
       "2137  2020-04-15 12:12:41.222000+00:00  \n",
       "8460  2020-04-16 05:23:43.778000+00:00  "
      ]
     },
     "execution_count": 32,
     "metadata": {},
     "output_type": "execute_result"
    }
   ],
   "source": [
    "df_labels.sample(5)"
   ]
  },
  {
   "cell_type": "code",
   "execution_count": 28,
   "metadata": {},
   "outputs": [
    {
     "data": {
      "text/plain": [
       "(20000, 6)"
      ]
     },
     "execution_count": 28,
     "metadata": {},
     "output_type": "execute_result"
    }
   ],
   "source": [
    "df_labels.shape"
   ]
  },
  {
   "cell_type": "markdown",
   "metadata": {},
   "source": [
    "### meta-label dataset using triple barrier"
   ]
  },
  {
   "cell_type": "code",
   "execution_count": 33,
   "metadata": {},
   "outputs": [],
   "source": [
    "predictions = pd.DataFrame(np.random.choice([-1, 1], df_labels.shape[0]))"
   ]
  },
  {
   "cell_type": "code",
   "execution_count": 35,
   "metadata": {},
   "outputs": [
    {
     "name": "stdout",
     "output_type": "stream",
     "text": [
      "CPU times: user 4min 8s, sys: 208 ms, total: 4min 8s\n",
      "Wall time: 4min 8s\n"
     ]
    }
   ],
   "source": [
    "%%time\n",
    "df_meta_labels = fm.meta_labeling(df_TB, promising_points[:20000], predictions)"
   ]
  },
  {
   "cell_type": "code",
   "execution_count": 37,
   "metadata": {},
   "outputs": [
    {
     "data": {
      "text/html": [
       "<div>\n",
       "<style scoped>\n",
       "    .dataframe tbody tr th:only-of-type {\n",
       "        vertical-align: middle;\n",
       "    }\n",
       "\n",
       "    .dataframe tbody tr th {\n",
       "        vertical-align: top;\n",
       "    }\n",
       "\n",
       "    .dataframe thead th {\n",
       "        text-align: right;\n",
       "    }\n",
       "</style>\n",
       "<table border=\"1\" class=\"dataframe\">\n",
       "  <thead>\n",
       "    <tr style=\"text-align: right;\">\n",
       "      <th></th>\n",
       "      <th>start</th>\n",
       "      <th>end</th>\n",
       "      <th>size</th>\n",
       "      <th>pred_side</th>\n",
       "      <th>true_side</th>\n",
       "      <th>take</th>\n",
       "      <th>duration</th>\n",
       "      <th>touch_time</th>\n",
       "    </tr>\n",
       "  </thead>\n",
       "  <tbody>\n",
       "    <tr>\n",
       "      <th>8628</th>\n",
       "      <td>154.87</td>\n",
       "      <td>154.85</td>\n",
       "      <td>0.02</td>\n",
       "      <td>1</td>\n",
       "      <td>0</td>\n",
       "      <td>0</td>\n",
       "      <td>00:05:07.289000</td>\n",
       "      <td>2020-04-16 06:28:03.731000+00:00</td>\n",
       "    </tr>\n",
       "    <tr>\n",
       "      <th>12134</th>\n",
       "      <td>167.8</td>\n",
       "      <td>166.19</td>\n",
       "      <td>1.61</td>\n",
       "      <td>1</td>\n",
       "      <td>-1</td>\n",
       "      <td>0</td>\n",
       "      <td>00:00:16.170000</td>\n",
       "      <td>2020-04-16 07:20:00.035000+00:00</td>\n",
       "    </tr>\n",
       "    <tr>\n",
       "      <th>15742</th>\n",
       "      <td>164.35</td>\n",
       "      <td>165.44</td>\n",
       "      <td>1.09</td>\n",
       "      <td>1</td>\n",
       "      <td>1</td>\n",
       "      <td>1</td>\n",
       "      <td>00:00:40.405000</td>\n",
       "      <td>2020-04-16 08:00:23.758000+00:00</td>\n",
       "    </tr>\n",
       "    <tr>\n",
       "      <th>5153</th>\n",
       "      <td>152.64</td>\n",
       "      <td>152.71</td>\n",
       "      <td>0.07</td>\n",
       "      <td>1</td>\n",
       "      <td>0</td>\n",
       "      <td>0</td>\n",
       "      <td>00:05:04.239000</td>\n",
       "      <td>2020-04-15 23:18:52.378000+00:00</td>\n",
       "    </tr>\n",
       "    <tr>\n",
       "      <th>10667</th>\n",
       "      <td>160.97</td>\n",
       "      <td>162.26</td>\n",
       "      <td>1.29</td>\n",
       "      <td>-1</td>\n",
       "      <td>1</td>\n",
       "      <td>0</td>\n",
       "      <td>00:01:31.941000</td>\n",
       "      <td>2020-04-16 07:18:22.209000+00:00</td>\n",
       "    </tr>\n",
       "  </tbody>\n",
       "</table>\n",
       "</div>"
      ],
      "text/plain": [
       "        start     end  size  pred_side  true_side  take        duration  \\\n",
       "8628   154.87  154.85  0.02          1          0     0 00:05:07.289000   \n",
       "12134   167.8  166.19  1.61          1         -1     0 00:00:16.170000   \n",
       "15742  164.35  165.44  1.09          1          1     1 00:00:40.405000   \n",
       "5153   152.64  152.71  0.07          1          0     0 00:05:04.239000   \n",
       "10667  160.97  162.26  1.29         -1          1     0 00:01:31.941000   \n",
       "\n",
       "                            touch_time  \n",
       "8628  2020-04-16 06:28:03.731000+00:00  \n",
       "12134 2020-04-16 07:20:00.035000+00:00  \n",
       "15742 2020-04-16 08:00:23.758000+00:00  \n",
       "5153  2020-04-15 23:18:52.378000+00:00  \n",
       "10667 2020-04-16 07:18:22.209000+00:00  "
      ]
     },
     "execution_count": 37,
     "metadata": {},
     "output_type": "execute_result"
    }
   ],
   "source": [
    "df_meta_labels.sample(5)"
   ]
  },
  {
   "cell_type": "code",
   "execution_count": 38,
   "metadata": {},
   "outputs": [
    {
     "data": {
      "text/plain": [
       "(20000, 8)"
      ]
     },
     "execution_count": 38,
     "metadata": {},
     "output_type": "execute_result"
    }
   ],
   "source": [
    "df_meta_labels.shape"
   ]
  }
 ],
 "metadata": {
  "kernelspec": {
   "display_name": "freqml",
   "language": "python",
   "name": "freqml"
  },
  "language_info": {
   "codemirror_mode": {
    "name": "ipython",
    "version": 3
   },
   "file_extension": ".py",
   "mimetype": "text/x-python",
   "name": "python",
   "nbconvert_exporter": "python",
   "pygments_lexer": "ipython3",
   "version": "3.7.4"
  }
 },
 "nbformat": 4,
 "nbformat_minor": 4
}
